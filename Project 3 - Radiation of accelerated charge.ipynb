{
 "cells": [
  {
   "cell_type": "code",
   "execution_count": 1,
   "metadata": {},
   "outputs": [],
   "source": [
    "import numpy as np\n",
    "import scipy as scy\n",
    "import matplotlib.pyplot as plt"
   ]
  },
  {
   "cell_type": "code",
   "execution_count": 2,
   "metadata": {},
   "outputs": [],
   "source": [
    "def inicializa_sistema():\n",
    "    L = 20\n",
    "    x_min = -L/2\n",
    "    x_max = L/2\n",
    "    y_min = -L/2\n",
    "    y_max = L/2\n",
    "    \n",
    "    tam_carga = 0.3\n",
    "    n_linhas = 10\n",
    "    dt = 0.4\n",
    "    #dtheta = 2*np.pi/n_linhas\n",
    "    n_frames = 15\n",
    "    for i in range(n_frames):\n",
    "        Desenha_Campo(L, i, n_frames, tam_carga, dt)"
   ]
  },
  {
   "cell_type": "code",
   "execution_count": 3,
   "metadata": {},
   "outputs": [],
   "source": [
    "def zero_of_f(f,dfdt,R, t, t_ret, ta, tb):\n",
    "    eps = 10**(-6)\n",
    "    dt_r = tb-ta\n",
    "    for i in range(100):\n",
    "        dt = f/dfdt\n",
    "        sinal = (t_ret - ta -dt)*(t_ret - tb - dt)\n",
    "        dt_old = dt\n",
    "        if sinal>=0 or np.abs(2*dt) > np.abs(dt_old):\n",
    "            dt_r = 0.5*(ta-tb)\n",
    "            t_ret = tb + dt_r\n",
    "        else :\n",
    "            dt_r = dt\n",
    "            t_ret = t_ret - dt_r\n",
    "        if np.abs(dt_r) < eps:\n",
    "            return t_ret\n",
    "        f,dfdt = fanddf(R,t,t_ret)\n",
    "        if f < 0:\n",
    "            tb = t_ret\n",
    "        else:\n",
    "            ta = t_ret\n",
    "    return dt_r\n",
    "            \n",
    "def movimento(R,t_ret):\n",
    "    r_ret = np.ones(3)\n",
    "    v_ret = np.ones(3)\n",
    "    a_ret = np.ones(3)\n",
    "    \n",
    "    ### posição retardada = posição atual\n",
    "    r_ret[0] = R[0] - 0.2*np.cos(t_ret)\n",
    "    r_ret[1] = R[1]\n",
    "    r_ret[2] = R[2]\n",
    "    \n",
    "    ### velocidade retardada\n",
    "    v_ret[0] = -0.2*np.sin(t_ret)\n",
    "    v_ret[1] = 0 \n",
    "    v_ret[2] = 0\n",
    "    \n",
    "    ### aceleração\n",
    "    a_ret[0] = -0.2*np.cos(t_ret)\n",
    "    a_ret[1] = 0\n",
    "    a_ret[2] = 0\n",
    "    \n",
    "    return r_ret, v_ret, a_ret"
   ]
  },
  {
   "cell_type": "code",
   "execution_count": 4,
   "metadata": {},
   "outputs": [],
   "source": [
    "def fanddf(R, t, t_ret):\n",
    "    r_ret,v_ret,a_ret = movimento(R,t_ret)\n",
    "    dist_ret = np.sqrt(np.dot(r_ret,r_ret))\n",
    "    f = t - t_ret - dist_ret\n",
    "    dfdt = -1 + np.dot(r_ret,v_ret)/dist_ret\n",
    "    return f, dfdt"
   ]
  },
  {
   "cell_type": "code",
   "execution_count": 5,
   "metadata": {},
   "outputs": [],
   "source": [
    "def retarted_time(R,t):\n",
    "    tb = t\n",
    "    fb, dfdt = fanddf(R ,t ,tb )\n",
    "    ta = -1/(1.6)\n",
    "    fa, dfdt = fanddf(R, t, ta)\n",
    "    while(fa < 0):\n",
    "        ta = ta*1.6\n",
    "        fa, dfdt = fanddf(R, t, ta)\n",
    "    t_ret = 0.5*(ta+tb)\n",
    "    f, dfdt = fanddf(R,t,t_ret)\n",
    "    return zero_of_f(f,dfdt,R,t,t_ret,ta,tb)    "
   ]
  },
  {
   "cell_type": "code",
   "execution_count": 6,
   "metadata": {},
   "outputs": [],
   "source": [
    "def Calcula_Campo(R,t):\n",
    "    \n",
    "    t_ret = retarted_time(R,t)\n",
    "    r_ret,v_ret,a_ret = movimento(R, t_ret)\n",
    "    \n",
    "    v2 = np.dot(v_ret,v_ret)\n",
    "    dist_ret = np.sqrt(np.dot(r_ret,r_ret))\n",
    "    \n",
    "    u_ret = r_ret/dist_ret - v_ret\n",
    "    uxa = np.cross(u_ret,a_ret)\n",
    "    w_ret = np.cross(r_ret,uxa)\n",
    "    ru = np.dot(r_ret,u_ret)\n",
    "    E0 = dist_ret/(ru**3)\n",
    "    \n",
    "    return E0*(u_ret*(1-v2) + w_ret)"
   ]
  },
  {
   "cell_type": "code",
   "execution_count": 7,
   "metadata": {},
   "outputs": [],
   "source": [
    "def Desenha_Campo(L, frame, n_frames, a, dt):\n",
    "    linhas_x = []\n",
    "    linhas_y = []\n",
    "    E = np.zeros(3)\n",
    "    R = np.zeros(3)\n",
    "    ds = 1\n",
    "    t = frame*dt\n",
    "    r_ret, v_ret, a_ret = movimento(R, t)\n",
    "    x = R[0] - r_ret[0]\n",
    "    y = R[1] - r_ret[1]\n",
    "    vec_dtheta = np.linspace(0,2*np.pi,n_frames)\n",
    "    for theta in vec_dtheta:\n",
    "        x_line = x + a*np.cos(theta)\n",
    "        y_line = y + a*np.sin(theta)\n",
    "        linhas_x.append(x_line)\n",
    "        linhas_y.append(y_line)\n",
    "        while(np.abs(x_line) < L/2 or np.abs(y_line) < L/2):\n",
    "            R[0] = x_line\n",
    "            R[1] = y_line\n",
    "            E = Calcula_Campo(R,t)\n",
    "            E_mag = np.sqrt(np.dot(E,E))\n",
    "            x_line = x_line + ds*E[0]/E_mag\n",
    "            y_line = y_line + ds*E[1]/E_mag\n",
    "            linhas_x.append(x_line)\n",
    "            linhas_y.append(y_line)\n",
    "            plt.plot(x_line,y_line)\n",
    "    print(len(linhas_x))\n",
    "            \n",
    "        "
   ]
  },
  {
   "cell_type": "code",
   "execution_count": null,
   "metadata": {},
   "outputs": [],
   "source": [
    "inicializa_sistema()"
   ]
  },
  {
   "cell_type": "code",
   "execution_count": null,
   "metadata": {},
   "outputs": [],
   "source": []
  }
 ],
 "metadata": {
  "kernelspec": {
   "display_name": "Python 3",
   "language": "python",
   "name": "python3"
  },
  "language_info": {
   "codemirror_mode": {
    "name": "ipython",
    "version": 3
   },
   "file_extension": ".py",
   "mimetype": "text/x-python",
   "name": "python",
   "nbconvert_exporter": "python",
   "pygments_lexer": "ipython3",
   "version": "3.7.3"
  }
 },
 "nbformat": 4,
 "nbformat_minor": 2
}
