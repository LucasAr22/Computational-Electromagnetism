{
 "cells": [
  {
   "cell_type": "code",
   "execution_count": 3,
   "metadata": {},
   "outputs": [],
   "source": [
    "from __future__ import print_function\n",
    "from ipywidgets import interact, interactive, fixed, interact_manual\n",
    "import ipywidgets as widgets\n",
    "import numpy as np\n",
    "from matplotlib import pyplot as plt\n",
    "from scipy import signal\n",
    "from mpl_toolkits.mplot3d import Axes3D\n",
    "import ipyvolume as ipv\n",
    "import matplotlib.colors as colors\n",
    "import matplotlib.image as img\n",
    "\n",
    "%matplotlib inline"
   ]
  },
  {
   "cell_type": "code",
   "execution_count": 4,
   "metadata": {},
   "outputs": [],
   "source": [
    "#Botao para o tipo de fenda\n",
    "tipo_ = widgets.Dropdown(\n",
    "    options=[('Fenda Circular', 1), ('Ponto de Arago', 2), ('Fenda Quadrada', 3), ('Batman', 4)],\n",
    "    value=1, description='Fenda:')\n"
   ]
  },
  {
   "cell_type": "code",
   "execution_count": 5,
   "metadata": {},
   "outputs": [],
   "source": [
    "def truncate_colormap(cmap, minval=0.0, maxval=1.0, n=100):\n",
    "    \"\"\"Corta mapas de cores\"\"\"\n",
    "    new_cmap = colors.LinearSegmentedColormap.from_list(\n",
    "        'trunc({n},{a:.2f},{b:.2f})'.format(n=cmap.name, a=minval, b=maxval),\n",
    "        cmap(np.linspace(minval, maxval, n)))\n",
    "    return new_cmap"
   ]
  },
  {
   "cell_type": "code",
   "execution_count": 6,
   "metadata": {},
   "outputs": [],
   "source": [
    "def k_():\n",
    "    return 2*np.pi\n",
    "def L_(a):\n",
    "    return 40\n",
    "def passo_(a):\n",
    "    return 0.05\n",
    "\n",
    "\n",
    "def grid(a):\n",
    "    \"\"\"Define rede para avaliar as funções.\"\"\"\n",
    "    L = L_(a)\n",
    "    passo = passo_(a)\n",
    "    x = np.arange(-L,L,passo)\n",
    "    y = np.arange(-L,L,passo)\n",
    "    \n",
    "    xx, yy = np.meshgrid(x, y)\n",
    "    return xx, yy"
   ]
  },
  {
   "cell_type": "code",
   "execution_count": 7,
   "metadata": {},
   "outputs": [],
   "source": [
    "def numero_fresnel(a, z):\n",
    "    return a**2*k_()/(2*np.pi*z)"
   ]
  },
  {
   "cell_type": "code",
   "execution_count": 8,
   "metadata": {},
   "outputs": [],
   "source": [
    "def h(a, z):\n",
    "    \"\"\"Primeira função para convolução: campo.\"\"\"\n",
    "    k = k_()\n",
    "    \n",
    "    xx, yy = grid(a)\n",
    "\n",
    "    return k*np.e**(1j*k*z)*np.e**(1j*k*(xx**2 + yy**2)/(2*z))/(1j*2*np.pi*z)"
   ]
  },
  {
   "cell_type": "code",
   "execution_count": 9,
   "metadata": {},
   "outputs": [],
   "source": [
    "def E0(a, tipo):\n",
    "    \"\"\"Segunda função para a convolução: fenda.\"\"\"\n",
    "    xx, yy = grid(a)\n",
    "    if tipo == 1:\n",
    "        return 1-(np.heaviside(np.sqrt(xx**2 + yy**2)-a, 0))\n",
    "    if tipo == 2:\n",
    "        return (np.heaviside(np.sqrt(xx**2 + yy**2)-a, 0))\n",
    "    if tipo == 3:\n",
    "        return ((np.heaviside(xx-a, 0))-(np.heaviside(xx+a, 0)))*((np.heaviside(yy-a, 0))-(np.heaviside(yy+a, 0)))\n",
    "    if tipo == 4:\n",
    "        return matriz_batman(a)"
   ]
  },
  {
   "cell_type": "code",
   "execution_count": 10,
   "metadata": {},
   "outputs": [],
   "source": [
    "def matriz_batman(a):\n",
    "    \"\"\"Tipo de fenda mais complexa.\"\"\"\n",
    "    image = img.imread(\"bat.jpg\")\n",
    "    lum_img = image[:,:, 1]\n",
    "    \n",
    "    mat = np.zeros((1500, 1500))\n",
    "\n",
    "    mat[850-721//2:850+722//2, :] = 1-lum_img/lum_img.max()\n",
    "        \n",
    "    step = int(len(mat)/(a/passo_(a)))\n",
    "    mat = mat[::step, ::step]\n",
    "    mat = mat.astype(int)\n",
    "    \n",
    "    dimb = len(mat)\n",
    "    \n",
    "    xx, yy = grid(a)\n",
    "    dim = len(xx)\n",
    "    mat2 = np.zeros((dim, dim))\n",
    "\n",
    "    mat2[(dim - dimb)//2 : (dim + dimb)//2, (dim - dimb)//2 : (dim + dimb)//2] = mat\n",
    "\n",
    "    return mat2"
   ]
  },
  {
   "cell_type": "code",
   "execution_count": 11,
   "metadata": {},
   "outputs": [],
   "source": [
    "def difracao(z, a, tipo):\n",
    "    L = L_(a)\n",
    "    \n",
    "    plt.style.use(\"classic\")\n",
    "\n",
    "    \n",
    "    #Cria os subplots\n",
    "    fig8 = plt.figure(constrained_layout=False)\n",
    "    gs1 = fig8.add_gridspec(nrows=4, ncols=4, wspace=0.001)\n",
    "    ax1 = fig8.add_subplot(gs1[0:-1, :])\n",
    "    ax2 = fig8.add_subplot(gs1[-1, :-1])\n",
    "    ax3 = fig8.add_subplot(gs1[-1, -1])\n",
    "\n",
    "\n",
    "    cmap = plt.get_cmap('magma')\n",
    "    new_cmap = truncate_colormap(cmap, 0., 1.)\n",
    "    x, y = grid(a)\n",
    "    \n",
    "    #Convolução\n",
    "    padrao = signal.fftconvolve(E0(a, tipo), h(a, z), mode = \"same\")\n",
    "    \n",
    "    #Aproxima a imagem\n",
    "    dim = len(padrao)\n",
    "    padrao = padrao[dim//2-dim//3:dim//2+dim//3, dim//2-dim//3:dim//2+dim//3]\n",
    "    x = x[dim//2-dim//3:dim//2+dim//3, dim//2-dim//3:dim//2+dim//3]\n",
    "    y= y[dim//2-dim//3:dim//2+dim//3, dim//2-dim//3:dim//2+dim//3]\n",
    "    E0_ = E0(a, tipo)\n",
    "    E0_ = E0_[dim//2-dim//3:dim//2+dim//3, dim//2-dim//3:dim//2+dim//3]\n",
    "    \n",
    "    #Plota o padrao difradatado\n",
    "    padrao_im = ax1.imshow(abs(padrao)/np.max(abs(padrao)), cmap= new_cmap)\n",
    "    ax1.set_title(\"$F = $\" + str(np.around(numero_fresnel(a,z), decimals=3)))\n",
    "    fig8.colorbar(padrao_im, ax=ax1)\n",
    "    ax1.axis('off')\n",
    "    \n",
    "    \n",
    "    #Plota a fenda\n",
    "    ax3.imshow(abs(E0_/np.max(abs(E0_))), cmap = \"bone\")\n",
    "    ax3.axis('off')\n",
    "\n",
    "    #Plota o corte horizontal de intensidade\n",
    "    dim_cut = len(padrao)     \n",
    "    ax2.plot(x[dim_cut//2], abs(padrao)[:,dim_cut//2]/np.max(abs(padrao)[:,dim_cut//2]), color = \"purple\", linewidth = 2)\n",
    "    ax2.plot(x[dim_cut//2], 0.8*np.heaviside(x[dim_cut//2]+a, 0) - 0.8*np.heaviside(x[dim_cut//2]-a, 0), color = \"gray\")\n",
    "    ax2.set_xlabel(\"$x/\\lambda$\")\n",
    "    ax2.set_ylabel(\"$I/I_{0}$\")\n",
    "    \n",
    "    plt.savefig(\"resultg4.pdf\")\n",
    "\n",
    " "
   ]
  },
  {
   "cell_type": "code",
   "execution_count": 12,
   "metadata": {},
   "outputs": [
    {
     "data": {
      "application/vnd.jupyter.widget-view+json": {
       "model_id": "608337d37eec45abbb34200d74b8cd95",
       "version_major": 2,
       "version_minor": 0
      },
      "text/plain": [
       "interactive(children=(FloatSlider(value=3.0, description='z'), FloatSlider(value=3.0, description='a', max=20.…"
      ]
     },
     "metadata": {},
     "output_type": "display_data"
    }
   ],
   "source": [
    "interact_manual(difracao, z =widgets.FloatSlider(value = 3\n",
    ", step=0.1, max = 100), a=widgets.FloatSlider(value = 3\n",
    ", step=0.1, max = 20), tipo = tipo_);\n",
    "\n"
   ]
  },
  {
   "cell_type": "code",
   "execution_count": null,
   "metadata": {},
   "outputs": [],
   "source": []
  }
 ],
 "metadata": {
  "kernelspec": {
   "display_name": "Python 3",
   "language": "python",
   "name": "python3"
  },
  "language_info": {
   "codemirror_mode": {
    "name": "ipython",
    "version": 3
   },
   "file_extension": ".py",
   "mimetype": "text/x-python",
   "name": "python",
   "nbconvert_exporter": "python",
   "pygments_lexer": "ipython3",
   "version": "3.7.3"
  }
 },
 "nbformat": 4,
 "nbformat_minor": 2
}
